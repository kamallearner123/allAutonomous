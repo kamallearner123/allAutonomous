{
 "cells": [
  {
   "cell_type": "code",
   "execution_count": 16,
   "id": "8c5de033",
   "metadata": {},
   "outputs": [
    {
     "data": {
      "text/plain": [
       "2017"
      ]
     },
     "execution_count": 16,
     "metadata": {},
     "output_type": "execute_result"
    }
   ],
   "source": [
    "refs = '''\n",
    "[1] Atmel. ARM SAM4L Low Power MCU, 3 2014. 4203G.\n",
    "[2] A. Balasubramanian, M. S. Baranowski, A. Burtsev, A. Panda, Z. Rakamaric, and L. Ryzhyk. System Programming in Rust: Beyond Safety.\n",
    "In Proceedings of the 16th Workshop on Hot Topics in Operating Systems,\n",
    "HotOS’17, Berkeley, CA, USA, 2017. USENIX Association.\n",
    "[3] B. N. Bershad, S. Savage, P. Pardyak, E. G. Sirer, M. E. Fiuczynski,\n",
    "D. Becker, C. Chambers, and S. Eggers. Extensibility safety and performance in the spin operating system. In ACM SIGOPS Operating\n",
    "Systems Review, volume 29, pages 267–283. ACM, 1995.\n",
    "[4] J. Bonwick. The slab allocator: An object-caching kernel memory allocator. In Proceedings of the USENIX Summer 1994 Technical Conference\n",
    "on USENIX Summer 1994 Technical Conference - Volume 1, USTC’94,\n",
    "pages 6–6, Berkeley, CA, USA, 1994. USENIX Association.\n",
    "[5] P. Buiras, D. Vytiniotis, and A. Russo. Hlio: Mixing static and dynamic typing for information-flow control in haskell. SIGPLAN Not.,\n",
    "50(9):289–301, Aug. 2015.\n",
    "[6] L. Cardelli, J. Donahue, M. Jordan, B. Kalsow, and G. Nelson. The\n",
    "Modula–3 type system. In Proceedings of the 16th ACM SIGPLANSIGACT Symposium on Principles of Programming Languages, POPL\n",
    "’89, pages 202–212, New York, NY, USA, 1989. ACM.\n",
    "[7] W. Enck, P. Gilbert, B.-G. Chun, L. P. Cox, J. Jung, P. McDaniel, and A. N.\n",
    "Sheth. Taintdroid: An information-flow tracking system for realtime\n",
    "privacy monitoring on smartphones. In Proceedings of the 9th USENIX\n",
    "Conference on Operating Systems Design and Implementation, OSDI’10,\n",
    "pages 393–407, Berkeley, CA, USA, 2010. USENIX Association.\n",
    "[8] D. Grossman. Existential types for imperative languages. In Proceedings of the 11th European Symposium on Programming Languages\n",
    "and Systems, ESOP ’02, pages 21–35, London, UK, UK, 2002. SpringerVerlag.\n",
    "[9] G. C. Hunt and J. R. Larus. Singularity: Rethinking the software stack.\n",
    "SIGOPS Oper. Syst. Rev., 41(2):37–49, Apr. 2007.\n",
    "[10] Intel. IntelÂő Digital Random Number Generator Software Implementation Guide, 8 2012. Rev. 1.1.\n",
    "[11] S. T. King, P. M. Chen, Y.-M. Wang, C. Verbowski, H. J. Wang, and\n",
    "J. R. Lorch. Subvirt: Implementing malware with virtual machines. In\n",
    "Proceedings of the 2006 IEEE Symposium on Security and Privacy, SP ’06,\n",
    "pages 314–327, Washington, DC, USA, 2006. IEEE Computer Society.\n",
    "[12] G. Klein, K. Elphinstone, G. Heiser, J. Andronick, D. Cock, P. Derrin,\n",
    "D. Elkaduwe, K. Engelhardt, R. Kolanski, M. Norrish, T. Sewell, H. Tuch,\n",
    "and S. Winwood. seL4: Formal verification of an OS kernel. In Proceedings of the ACM SIGOPS 22Nd Symposium on Operating Systems\n",
    "Principles, SOSP ’09, pages 207–220, New York, NY, USA, 2009. ACM.\n",
    "[13] C. Lattner and V. Adve. Llvm: A compilation framework for lifelong\n",
    "program analysis & transformation. In Proceedings of the International\n",
    "Symposium on Code Generation and Optimization: Feedback-directed\n",
    "and Runtime Optimization, CGO ’04, pages 75–, Washington, DC, USA,\n",
    "2004. IEEE Computer Society'''\n",
    "\n",
    "import regex\n",
    "max([int(i) for i in list(filter(lambda x: (int(x)<2021), regex.findall(r'\\d{4}', refs)))])"
   ]
  },
  {
   "cell_type": "code",
   "execution_count": null,
   "id": "5d0f4e34",
   "metadata": {},
   "outputs": [],
   "source": []
  }
 ],
 "metadata": {
  "kernelspec": {
   "display_name": "Python 3",
   "language": "python",
   "name": "python3"
  },
  "language_info": {
   "codemirror_mode": {
    "name": "ipython",
    "version": 3
   },
   "file_extension": ".py",
   "mimetype": "text/x-python",
   "name": "python",
   "nbconvert_exporter": "python",
   "pygments_lexer": "ipython3",
   "version": "3.8.10"
  }
 },
 "nbformat": 4,
 "nbformat_minor": 5
}
