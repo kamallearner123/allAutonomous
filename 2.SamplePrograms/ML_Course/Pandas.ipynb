{
 "cells": [
  {
   "cell_type": "code",
   "execution_count": 10,
   "metadata": {},
   "outputs": [
    {
     "name": "stdout",
     "output_type": "stream",
     "text": [
      "<class 'pandas.core.frame.DataFrame'>\n",
      "       # Unnamed: 1            Name Ticker  Last price        %     24 high  \\\n",
      "0      1        NaN         Bitcoin    BTC    $ 58,134   +0.08%    $ 58,386   \n",
      "1      2        NaN        Ethereum    ETH  $ 2,082.44   +0.08%  $ 2,097.61   \n",
      "2      3        NaN          Ripple    XRP      $ 1.03   -2.83%      $ 1.06   \n",
      "3      4        NaN      Bittorrent    BTT  $ 0.009550   -1.36%  $ 0.009990   \n",
      "4      5        NaN            Tron    TRX  $ 0.122097   -1.18%  $ 0.125061   \n",
      "..   ...        ...             ...    ...         ...      ...         ...   \n",
      "97    96        NaN            Bora   BORA  $ 0.290166   -0.69%  $ 0.307221   \n",
      "98    97        NaN          Strike   STRK     $ 47.22   -1.76%     $ 49.51   \n",
      "99    98        NaN  Bitcoindiamond    BCD      $ 3.25   -0.84%      $ 3.30   \n",
      "100   99        NaN  Cryptocomchain    CRO  $ 0.202171   -0.20%  $ 0.205830   \n",
      "101  100        NaN   Dawn protocol   DAWN      $ 3.89  +12.25%      $ 4.14   \n",
      "\n",
      "         24 low Price Charts 7d  24 volume  # Coins Market cap  \n",
      "0      $ 58,078             NaN   $ 15.19B   18.67M    $ 1.08T  \n",
      "1    $ 2,078.67             NaN    $ 9.58B  115.38M  $ 240.29B  \n",
      "2        $ 1.03             NaN    $ 6.76B   45.90B   $ 47.07B  \n",
      "3    $ 0.009456             NaN    $ 3.30B  659.95B    $ 6.30B  \n",
      "4    $ 0.122054             NaN    $ 2.82B   71.65B    $ 8.74B  \n",
      "..          ...             ...        ...      ...        ...  \n",
      "97   $ 0.282684             NaN  $ 123.47M      NaN        NaN  \n",
      "98      $ 46.30             NaN  $ 122.69M      NaN        NaN  \n",
      "99       $ 3.20             NaN  $ 120.77M  153.75M  $ 499.34M  \n",
      "100  $ 0.200946             NaN  $ 120.29M   18.46B    $ 3.73B  \n",
      "101      $ 3.28             NaN  $ 119.82M      NaN        NaN  \n",
      "\n",
      "[102 rows x 12 columns]\n"
     ]
    }
   ],
   "source": [
    "import requests\n",
    "data = requests.get(\"https://www.worldcoinindex.com/\")\n",
    "import pandas as pd\n",
    "df = pd.read_html(data.text)\n",
    "df = df[0]\n",
    "print(type(df))\n",
    "print(df)\n",
    "writer = pd.ExcelWriter('pandas_simple.xlsx', engine='xlsxwriter')\n",
    "df.to_excel(writer, sheet_name=\"Sample\")"
   ]
  },
  {
   "cell_type": "code",
   "execution_count": 14,
   "metadata": {},
   "outputs": [
    {
     "name": "stdout",
     "output_type": "stream",
     "text": [
      "       # Unnamed: 1            Name Ticker  Last price        %     24 high  \\\n",
      "0      1        NaN         Bitcoin    BTC    $ 58,134   +0.08%    $ 58,386   \n",
      "1      2        NaN        Ethereum    ETH  $ 2,082.44   +0.08%  $ 2,097.61   \n",
      "2      3        NaN          Ripple    XRP      $ 1.03   -2.83%      $ 1.06   \n",
      "3      4        NaN      Bittorrent    BTT  $ 0.009550   -1.36%  $ 0.009990   \n",
      "4      5        NaN            Tron    TRX  $ 0.122097   -1.18%  $ 0.125061   \n",
      "..   ...        ...             ...    ...         ...      ...         ...   \n",
      "97    96        NaN            Bora   BORA  $ 0.290166   -0.69%  $ 0.307221   \n",
      "98    97        NaN          Strike   STRK     $ 47.22   -1.76%     $ 49.51   \n",
      "99    98        NaN  Bitcoindiamond    BCD      $ 3.25   -0.84%      $ 3.30   \n",
      "100   99        NaN  Cryptocomchain    CRO  $ 0.202171   -0.20%  $ 0.205830   \n",
      "101  100        NaN   Dawn protocol   DAWN      $ 3.89  +12.25%      $ 4.14   \n",
      "\n",
      "         24 low Price Charts 7d  24 volume  # Coins Market cap  \n",
      "0      $ 58,078             NaN   $ 15.19B   18.67M    $ 1.08T  \n",
      "1    $ 2,078.67             NaN    $ 9.58B  115.38M  $ 240.29B  \n",
      "2        $ 1.03             NaN    $ 6.76B   45.90B   $ 47.07B  \n",
      "3    $ 0.009456             NaN    $ 3.30B  659.95B    $ 6.30B  \n",
      "4    $ 0.122054             NaN    $ 2.82B   71.65B    $ 8.74B  \n",
      "..          ...             ...        ...      ...        ...  \n",
      "97   $ 0.282684             NaN  $ 123.47M      NaN        NaN  \n",
      "98      $ 46.30             NaN  $ 122.69M      NaN        NaN  \n",
      "99       $ 3.20             NaN  $ 120.77M  153.75M  $ 499.34M  \n",
      "100  $ 0.200946             NaN  $ 120.29M   18.46B    $ 3.73B  \n",
      "101      $ 3.28             NaN  $ 119.82M      NaN        NaN  \n",
      "\n",
      "[102 rows x 12 columns]\n"
     ]
    }
   ],
   "source": [
    "print(df)\n"
   ]
  },
  {
   "cell_type": "code",
   "execution_count": 17,
   "metadata": {},
   "outputs": [
    {
     "name": "stdout",
     "output_type": "stream",
     "text": [
      "               Name Ticker  Last price\n",
      "0           Bitcoin    BTC    $ 58,134\n",
      "1          Ethereum    ETH  $ 2,082.44\n",
      "2            Ripple    XRP      $ 1.03\n",
      "3        Bittorrent    BTT  $ 0.009550\n",
      "4              Tron    TRX  $ 0.122097\n",
      "..              ...    ...         ...\n",
      "97             Bora   BORA  $ 0.290166\n",
      "98           Strike   STRK     $ 47.22\n",
      "99   Bitcoindiamond    BCD      $ 3.25\n",
      "100  Cryptocomchain    CRO  $ 0.202171\n",
      "101   Dawn protocol   DAWN      $ 3.89\n",
      "\n",
      "[102 rows x 3 columns]\n"
     ]
    }
   ],
   "source": [
    "print(df.loc[:,\"Name\":\"Last price\"])"
   ]
  },
  {
   "cell_type": "code",
   "execution_count": 22,
   "metadata": {},
   "outputs": [
    {
     "data": {
      "text/html": [
       "<div>\n",
       "<style scoped>\n",
       "    .dataframe tbody tr th:only-of-type {\n",
       "        vertical-align: middle;\n",
       "    }\n",
       "\n",
       "    .dataframe tbody tr th {\n",
       "        vertical-align: top;\n",
       "    }\n",
       "\n",
       "    .dataframe thead th {\n",
       "        text-align: right;\n",
       "    }\n",
       "</style>\n",
       "<table border=\"1\" class=\"dataframe\">\n",
       "  <thead>\n",
       "    <tr style=\"text-align: right;\">\n",
       "      <th></th>\n",
       "      <th></th>\n",
       "      <th>Unnamed: 1</th>\n",
       "      <th>Name</th>\n",
       "    </tr>\n",
       "  </thead>\n",
       "  <tbody>\n",
       "    <tr>\n",
       "      <th rowspan=\"2\" valign=\"top\">1</th>\n",
       "      <th>0</th>\n",
       "      <td>NaN</td>\n",
       "      <td>Bitcoin</td>\n",
       "    </tr>\n",
       "    <tr>\n",
       "      <th>1</th>\n",
       "      <td>NaN</td>\n",
       "      <td>Ethereum</td>\n",
       "    </tr>\n",
       "    <tr>\n",
       "      <th rowspan=\"5\" valign=\"top\">2</th>\n",
       "      <th>5</th>\n",
       "      <td>NaN</td>\n",
       "      <td>Binancecoin</td>\n",
       "    </tr>\n",
       "    <tr>\n",
       "      <th>6</th>\n",
       "      <td>NaN</td>\n",
       "      <td>Litecoin</td>\n",
       "    </tr>\n",
       "    <tr>\n",
       "      <th>7</th>\n",
       "      <td>NaN</td>\n",
       "      <td>Enjin</td>\n",
       "    </tr>\n",
       "    <tr>\n",
       "      <th>8</th>\n",
       "      <td>NaN</td>\n",
       "      <td>Eos</td>\n",
       "    </tr>\n",
       "    <tr>\n",
       "      <th>9</th>\n",
       "      <td>NaN</td>\n",
       "      <td>Binanceusd</td>\n",
       "    </tr>\n",
       "  </tbody>\n",
       "</table>\n",
       "</div>"
      ],
      "text/plain": [
       "    Unnamed: 1         Name\n",
       "1 0        NaN      Bitcoin\n",
       "  1        NaN     Ethereum\n",
       "2 5        NaN  Binancecoin\n",
       "  6        NaN     Litecoin\n",
       "  7        NaN        Enjin\n",
       "  8        NaN          Eos\n",
       "  9        NaN   Binanceusd"
      ]
     },
     "execution_count": 22,
     "metadata": {},
     "output_type": "execute_result"
    }
   ],
   "source": [
    "df1 = df.iloc[0:2,1:3]\n",
    "df2 = df.iloc[5:10,1:3]\n",
    "\n",
    "pd.concat([df1,df2], keys=[1,2])"
   ]
  },
  {
   "cell_type": "code",
   "execution_count": null,
   "metadata": {},
   "outputs": [],
   "source": [
    "df1 = df.iloc[0:2,1:3]\n"
   ]
  },
  {
   "cell_type": "code",
   "execution_count": 32,
   "metadata": {},
   "outputs": [
    {
     "data": {
      "text/html": [
       "<div>\n",
       "<style scoped>\n",
       "    .dataframe tbody tr th:only-of-type {\n",
       "        vertical-align: middle;\n",
       "    }\n",
       "\n",
       "    .dataframe tbody tr th {\n",
       "        vertical-align: top;\n",
       "    }\n",
       "\n",
       "    .dataframe thead th {\n",
       "        text-align: right;\n",
       "    }\n",
       "</style>\n",
       "<table border=\"1\" class=\"dataframe\">\n",
       "  <thead>\n",
       "    <tr style=\"text-align: right;\">\n",
       "      <th></th>\n",
       "      <th>Unnamed: 1</th>\n",
       "      <th>Name</th>\n",
       "      <th>Last price</th>\n",
       "      <th>%</th>\n",
       "      <th>24 high</th>\n",
       "      <th>24 low</th>\n",
       "      <th>Price Charts 7d</th>\n",
       "      <th>24 volume</th>\n",
       "    </tr>\n",
       "  </thead>\n",
       "  <tbody>\n",
       "    <tr>\n",
       "      <th>0</th>\n",
       "      <td>NaN</td>\n",
       "      <td>Bitcoin</td>\n",
       "      <td>$ 58,134</td>\n",
       "      <td>+0.08%</td>\n",
       "      <td>$ 58,386</td>\n",
       "      <td>$ 58,078</td>\n",
       "      <td>NaN</td>\n",
       "      <td>$ 15.19B</td>\n",
       "    </tr>\n",
       "    <tr>\n",
       "      <th>1</th>\n",
       "      <td>NaN</td>\n",
       "      <td>Ethereum</td>\n",
       "      <td>$ 2,082.44</td>\n",
       "      <td>+0.08%</td>\n",
       "      <td>$ 2,097.61</td>\n",
       "      <td>$ 2,078.67</td>\n",
       "      <td>NaN</td>\n",
       "      <td>$ 9.58B</td>\n",
       "    </tr>\n",
       "  </tbody>\n",
       "</table>\n",
       "</div>"
      ],
      "text/plain": [
       "  Unnamed: 1      Name  Last price       %     24 high      24 low  \\\n",
       "0        NaN   Bitcoin    $ 58,134  +0.08%    $ 58,386    $ 58,078   \n",
       "1        NaN  Ethereum  $ 2,082.44  +0.08%  $ 2,097.61  $ 2,078.67   \n",
       "\n",
       "  Price Charts 7d 24 volume  \n",
       "0             NaN  $ 15.19B  \n",
       "1             NaN   $ 9.58B  "
      ]
     },
     "execution_count": 32,
     "metadata": {},
     "output_type": "execute_result"
    }
   ],
   "source": [
    "df1 = df.iloc[0:2,1:3]\n",
    "df2 = df.iloc[0:2, 4:10]\n",
    "\n",
    "\n",
    "pd.concat([df1,df2],axis=1)"
   ]
  },
  {
   "cell_type": "code",
   "execution_count": null,
   "metadata": {},
   "outputs": [],
   "source": []
  }
 ],
 "metadata": {
  "kernelspec": {
   "display_name": "Python 3",
   "language": "python",
   "name": "python3"
  },
  "language_info": {
   "codemirror_mode": {
    "name": "ipython",
    "version": 3
   },
   "file_extension": ".py",
   "mimetype": "text/x-python",
   "name": "python",
   "nbconvert_exporter": "python",
   "pygments_lexer": "ipython3",
   "version": "3.6.9"
  }
 },
 "nbformat": 4,
 "nbformat_minor": 2
}
