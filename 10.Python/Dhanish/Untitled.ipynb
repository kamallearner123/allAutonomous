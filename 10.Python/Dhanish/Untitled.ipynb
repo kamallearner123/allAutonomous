{
 "cells": [
  {
   "cell_type": "code",
   "execution_count": 2,
   "id": "bd4cd24a",
   "metadata": {},
   "outputs": [
    {
     "data": {
      "image/png": "[encoded data removed]",
      "text/plain": [
       "<Figure size 864x432 with 2 Axes>"
      ]
     },
     "metadata": {},
     "output_type": "display_data"
    }
   ],
   "source": [
    "import matplotlib.pyplot as plt                                                                                                                                                               \n",
    "import numpy as np\n",
    "from matplotlib.animation import FuncAnimation\n",
    "import psutil\n",
    "import collections\n",
    " \n",
    " \n",
    "# function to update the data\n",
    "def my_function():\n",
    "    # get data\n",
    "    cpu.popleft()\n",
    "    cpu.append(psutil.cpu_percent(interval=1))\n",
    "    ram.popleft()\n",
    "    ram.append(psutil.virtual_memory().percent)\n",
    "    # clear axis\n",
    "    ax.cla()\n",
    "    ax1.cla()\n",
    "    # plot cpu\n",
    "    ax.plot(cpu)\n",
    "    ax.scatter(len(cpu)-1, cpu[-1])\n",
    "    ax.text(len(cpu)-1, cpu[-1]+2, \"{}%\".format(cpu[-1]))\n",
    "    ax.set_ylim(0,100)\n",
    "    # plot memory\n",
    "    ax1.plot(ram)\n",
    "    ax1.scatter(len(ram)-1, ram[-1])\n",
    "    ax1.text(len(ram)-1, ram[-1]+2, \"{}%\".format(ram[-1]))\n",
    "    ax1.set_ylim(0,100)\n",
    "# start collections with zeros\n",
    "cpu = collections.deque(np.zeros(10))\n",
    "ram = collections.deque(np.zeros(10))\n",
    "# define and adjust figure\n",
    "fig = plt.figure(figsize=(12,6), facecolor='#DEDEDE')\n",
    "ax = plt.subplot(121)\n",
    "ax1 = plt.subplot(122)\n",
    "ax.set_facecolor('#DEDEDE')\n",
    "ax1.set_facecolor('#DEDEDE')\n",
    "# test\n",
    "my_function()\n",
    "plt.show()\n",
    "\n",
    "my_function()\n",
    "plt.show()\n",
    "\n",
    "my_function()\n",
    "plt.show()\n"
   ]
  },
  {
   "cell_type": "code",
   "execution_count": 4,
   "id": "4a917440",
   "metadata": {},
   "outputs": [
    {
     "name": "stderr",
     "output_type": "stream",
     "text": [
      "/home/aiengineer/.local/lib/python3.8/site-packages/matplotlib/animation.py:973: UserWarning: Animation was deleted without rendering anything. This is most likely unintended. To prevent deletion, assign the Animation to a variable that exists for as long as you need the Animation.\n",
      "  warnings.warn(\n"
     ]
    },
    {
     "data": {
      "image/png": "[encoded data removed]",
      "text/plain": [
       "<Figure size 864x432 with 2 Axes>"
      ]
     },
     "metadata": {},
     "output_type": "display_data"
    }
   ],
   "source": [
    "%matplotlib inline\n",
    "import matplotlib.pyplot as plt\n",
    "import numpy as np\n",
    "from matplotlib.animation import FuncAnimation\n",
    "import psutil\n",
    "import collections\n",
    "       \n",
    "import sh\n",
    "tail = sh.tail(\"-f\", \"data.log\", _iter=True)\n",
    "       \n",
    "       \n",
    "# function to update the data\n",
    "def my_function(i):\n",
    "       \n",
    "    new_data = tail.next()                                                                                                                                                                                                                                                                                                        \n",
    "    temp,hum = list(map(int, new_data.split(\",\")))\n",
    "       \n",
    "    # get data\n",
    "    temperatures.popleft()\n",
    "    #temperatures.append(psutil.temperatures_percent())\n",
    "    temperatures.append(temp)\n",
    "    humdity.popleft()\n",
    "    #humdity.append(psutil.virtual_memory().percent)\n",
    "    humdity.append(hum)\n",
    "       \n",
    "    # clear axis\n",
    "    ax.cla()\n",
    "    ax1.cla()\n",
    "    # plot temperatures\n",
    "    ax.plot(temperatures)\n",
    "    ax.scatter(len(temperatures)-1, temperatures[-1])\n",
    "    ax.text(len(temperatures)-1, temperatures[-1]+2, \"{}%\".format(temperatures[-1]))\n",
    "    ax.set_ylim(0,100)\n",
    "    # plot memory\n",
    "    ax1.plot(humdity)\n",
    "    ax1.scatter(len(humdity)-1, humdity[-1])\n",
    "    ax1.text(len(humdity)-1, humdity[-1]+2, \"{}%\".format(humdity[-1]))\n",
    "    ax1.set_ylim(0,100)\n",
    "       \n",
    "       \n",
    "       \n",
    "# start collections with zeros\n",
    "temperatures = collections.deque(np.zeros(10))\n",
    "humdity = collections.deque(np.zeros(10))\n",
    "# define and adjust figure\n",
    "fig = plt.figure(figsize=(12,6), facecolor='#DEDEDE')\n",
    "ax = plt.subplot(121)\n",
    "ax1 = plt.subplot(122)\n",
    "ax.set_facecolor('#DEDEDE')\n",
    "ax1.set_facecolor('#DEDEDE')\n",
    "# animate\n",
    "ani = FuncAnimation(fig, my_function, interval=500)\n",
    "plt.show()\n"
   ]
  },
  {
   "cell_type": "code",
   "execution_count": null,
   "id": "d17d8cbd",
   "metadata": {},
   "outputs": [],
   "source": []
  }
 ],
 "metadata": {
  "kernelspec": {
   "display_name": "Python 3",
   "language": "python",
   "name": "python3"
  },
  "language_info": {
   "codemirror_mode": {
    "name": "ipython",
    "version": 3
   },
   "file_extension": ".py",
   "mimetype": "text/x-python",
   "name": "python",
   "nbconvert_exporter": "python",
   "pygments_lexer": "ipython3",
   "version": "3.8.10"
  }
 },
 "nbformat": 4,
 "nbformat_minor": 5
}
