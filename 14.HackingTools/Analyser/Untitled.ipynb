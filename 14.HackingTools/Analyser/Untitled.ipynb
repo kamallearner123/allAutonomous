{
 "cells": [
  {
   "cell_type": "code",
   "execution_count": 2,
   "id": "994b78e5",
   "metadata": {},
   "outputs": [
    {
     "name": "stderr",
     "output_type": "stream",
     "text": [
      "usage: ipykernel_launcher.py [-h] --pcap <pcap file name>\n",
      "ipykernel_launcher.py: error: the following arguments are required: --pcap\n"
     ]
    },
    {
     "ename": "SystemExit",
     "evalue": "2",
     "output_type": "error",
     "traceback": [
      "An exception has occurred, use %tb to see the full traceback.\n",
      "\u001b[0;31mSystemExit\u001b[0m\u001b[0;31m:\u001b[0m 2\n"
     ]
    }
   ],
   "source": [
    "import argparse\n",
    "import os\n",
    "import sys\n",
    "\n",
    "def process_pcap(file_name = \"/home/aiengineer/Documents/sample.pcapng\"):\n",
    "    print('Opening {}...'.format(file_name))\n",
    "\n",
    "if __name__ == '__main__':\n",
    "    parser = argparse.ArgumentParser(description='PCAP reader')\n",
    "    parser.add_argument('--pcap', metavar='<pcap file name>',\n",
    "                        help='pcap file to parse', required=True)\n",
    "    args = parser.parse_args()\n",
    "    \n",
    "    file_name = args.pcap\n",
    "    if not os.path.isfile(file_name):\n",
    "        print('\"{}\" does not exist'.format(file_name), file=sys.stderr)\n",
    "        sys.exit(-1)\n",
    "\n",
    "    process_pcap(file_name)\n",
    "    sys.exit(0)\n",
    "    \n",
    "process_pcap()"
   ]
  },
  {
   "cell_type": "code",
   "execution_count": null,
   "id": "3242f64b",
   "metadata": {},
   "outputs": [],
   "source": []
  }
 ],
 "metadata": {
  "kernelspec": {
   "display_name": "Python 3",
   "language": "python",
   "name": "python3"
  },
  "language_info": {
   "codemirror_mode": {
    "name": "ipython",
    "version": 3
   },
   "file_extension": ".py",
   "mimetype": "text/x-python",
   "name": "python",
   "nbconvert_exporter": "python",
   "pygments_lexer": "ipython3",
   "version": "3.8.10"
  }
 },
 "nbformat": 4,
 "nbformat_minor": 5
}
